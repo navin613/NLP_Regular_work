{
  "nbformat": 4,
  "nbformat_minor": 0,
  "metadata": {
    "colab": {
      "name": "w6.ipynb",
      "version": "0.3.2",
      "provenance": [],
      "collapsed_sections": []
    },
    "kernelspec": {
      "name": "python3",
      "display_name": "Python 3"
    }
  },
  "cells": [
    {
      "metadata": {
        "id": "n_7daFJ13738",
        "colab_type": "text"
      },
      "cell_type": "markdown",
      "source": [
        "## PorterStemmer"
      ]
    },
    {
      "metadata": {
        "id": "2gVLPvta7WK0",
        "colab_type": "code",
        "colab": {}
      },
      "cell_type": "code",
      "source": [
        "import nltk\n",
        "from nltk.stem import PorterStemmer"
      ],
      "execution_count": 0,
      "outputs": []
    },
    {
      "metadata": {
        "id": "te8xniVo7id9",
        "colab_type": "code",
        "outputId": "56e0795e-9233-4071-ca92-bc09bbae03af",
        "colab": {
          "base_uri": "https://localhost:8080/",
          "height": 35
        }
      },
      "cell_type": "code",
      "source": [
        "stemmer = PorterStemmer()\n",
        "\n",
        "example = \"A cat was chasing a mouse\"\n",
        "\n",
        "example = [stemmer.stem(token) for token in example.split(\" \")]\n",
        "\n",
        "print(\" \".join(example))"
      ],
      "execution_count": 2,
      "outputs": [
        {
          "output_type": "stream",
          "text": [
            "A cat wa chase a mous\n"
          ],
          "name": "stdout"
        }
      ]
    },
    {
      "metadata": {
        "id": "WM9JIQKV5U7N",
        "colab_type": "code",
        "outputId": "f7c308a1-4206-4b36-fde7-b4d464e1dcd7",
        "colab": {
          "base_uri": "https://localhost:8080/",
          "height": 55
        }
      },
      "cell_type": "code",
      "source": [
        "text = \"Tesla, Inc. (formerly Tesla Motors, Inc.) is an American automotive and energy company based in Palo Alto, California.[7] The company specializes in electric car manufacturing and, through its SolarCity subsidiary, solar panel manufacturing. It operates multiple production and assembly plants, notably Gigafactory 1 near Reno, Nevada, and its main vehicle manufacturing facility at Tesla Factory in Fremont, California.\"\n",
        "\n",
        "text = [stemmer.stem(token) for token in text.split(\" \")]\n",
        "\n",
        "print(\" \".join(text))"
      ],
      "execution_count": 3,
      "outputs": [
        {
          "output_type": "stream",
          "text": [
            "tesla, inc. (formerli tesla motors, inc.) is an american automot and energi compani base in palo alto, california.[7] the compani special in electr car manufactur and, through it solarc subsidiary, solar panel manufacturing. It oper multipl product and assembl plants, notabl gigafactori 1 near reno, nevada, and it main vehicl manufactur facil at tesla factori in fremont, california.\n"
          ],
          "name": "stdout"
        }
      ]
    },
    {
      "metadata": {
        "id": "qHCDQRBe4DcN",
        "colab_type": "text"
      },
      "cell_type": "markdown",
      "source": [
        "## WordNet Lemmatizer"
      ]
    },
    {
      "metadata": {
        "id": "Pu4TaSH58hSp",
        "colab_type": "code",
        "outputId": "f33b01bc-c621-4e86-e97d-6a7ab5346a0d",
        "colab": {
          "base_uri": "https://localhost:8080/",
          "height": 71
        }
      },
      "cell_type": "code",
      "source": [
        "nltk.download('wordnet')\n",
        "from nltk.stem import WordNetLemmatizer\n",
        "\n",
        "lemmatizer = WordNetLemmatizer()\n",
        "\n",
        "example = \"A cat was chasing mice\"\n",
        "\n",
        "example = [lemmatizer.lemmatize(token) for token in example.split(\" \")]\n",
        "\n",
        "print(\" \".join(example))"
      ],
      "execution_count": 4,
      "outputs": [
        {
          "output_type": "stream",
          "text": [
            "[nltk_data] Downloading package wordnet to /root/nltk_data...\n",
            "[nltk_data]   Unzipping corpora/wordnet.zip.\n",
            "A cat wa chasing mouse\n"
          ],
          "name": "stdout"
        }
      ]
    },
    {
      "metadata": {
        "id": "DLDAFJ5880Hj",
        "colab_type": "code",
        "outputId": "351e85ba-1afd-4fe8-ab4a-eb1dad282887",
        "colab": {
          "base_uri": "https://localhost:8080/",
          "height": 35
        }
      },
      "cell_type": "code",
      "source": [
        "example = \"There was cacti around the corner\"\n",
        "\n",
        "example = [lemmatizer.lemmatize(token) for token in example.split(\" \")]\n",
        "\n",
        "print(\" \".join(example))"
      ],
      "execution_count": 5,
      "outputs": [
        {
          "output_type": "stream",
          "text": [
            "There wa cactus around the corner\n"
          ],
          "name": "stdout"
        }
      ]
    },
    {
      "metadata": {
        "id": "FZB-40XD9YxD",
        "colab_type": "code",
        "outputId": "3472652c-3e71-4da5-c5b8-24e97732e8e3",
        "colab": {
          "base_uri": "https://localhost:8080/",
          "height": 35
        }
      },
      "cell_type": "code",
      "source": [
        "print(lemmatizer.lemmatize('better', pos = 'a'))"
      ],
      "execution_count": 6,
      "outputs": [
        {
          "output_type": "stream",
          "text": [
            "good\n"
          ],
          "name": "stdout"
        }
      ]
    },
    {
      "metadata": {
        "id": "B7kxUAKN9rhr",
        "colab_type": "code",
        "outputId": "014e3025-c9ba-4019-fd22-1f0673eba229",
        "colab": {
          "base_uri": "https://localhost:8080/",
          "height": 35
        }
      },
      "cell_type": "code",
      "source": [
        "print(lemmatizer.lemmatize('better'))"
      ],
      "execution_count": 7,
      "outputs": [
        {
          "output_type": "stream",
          "text": [
            "better\n"
          ],
          "name": "stdout"
        }
      ]
    },
    {
      "metadata": {
        "id": "0QjxBPUw94Be",
        "colab_type": "code",
        "outputId": "8364727f-78b7-4cba-980d-e1390836f555",
        "colab": {
          "base_uri": "https://localhost:8080/",
          "height": 55
        }
      },
      "cell_type": "code",
      "source": [
        "print(lemmatizer.lemmatize('Tesla, Inc. (formerly Tesla Motors, Inc.) is an American automotive and energy company based in Palo Alto, California.[7] The company specializes in electric car manufacturing and, through its SolarCity subsidiary, solar panel manufacturing. It operates multiple production and assembly plants, notably Gigafactory 1 near Reno, Nevada, and its main vehicle manufacturing facility at Tesla Factory in Fremont, California. As of June 2018, Tesla sells the Model S, Model X and Model 3 vehicles, Powerwall and Powerpack batteries, solar panels, solar roof tiles, and some related products. '))"
      ],
      "execution_count": 8,
      "outputs": [
        {
          "output_type": "stream",
          "text": [
            "Tesla, Inc. (formerly Tesla Motors, Inc.) is an American automotive and energy company based in Palo Alto, California.[7] The company specializes in electric car manufacturing and, through its SolarCity subsidiary, solar panel manufacturing. It operates multiple production and assembly plants, notably Gigafactory 1 near Reno, Nevada, and its main vehicle manufacturing facility at Tesla Factory in Fremont, California. As of June 2018, Tesla sells the Model S, Model X and Model 3 vehicles, Powerwall and Powerpack batteries, solar panels, solar roof tiles, and some related products. \n"
          ],
          "name": "stdout"
        }
      ]
    },
    {
      "metadata": {
        "id": "3RqiZNLm4JlZ",
        "colab_type": "text"
      },
      "cell_type": "markdown",
      "source": [
        "## CountVectorizer and TfidfVectorizer"
      ]
    },
    {
      "metadata": {
        "id": "wPe7UUdq-cQz",
        "colab_type": "code",
        "colab": {}
      },
      "cell_type": "code",
      "source": [
        "from sklearn.feature_extraction.text import CountVectorizer\n",
        "from sklearn.feature_extraction.text import TfidfVectorizer"
      ],
      "execution_count": 0,
      "outputs": []
    },
    {
      "metadata": {
        "id": "gOrT4PaiA4hn",
        "colab_type": "code",
        "outputId": "03444c53-4874-4f24-bc04-b1053dc91e21",
        "colab": {
          "base_uri": "https://localhost:8080/",
          "height": 53
        }
      },
      "cell_type": "code",
      "source": [
        "vect = CountVectorizer(binary = True)\n",
        "\n",
        "corpus = [\"Tessaract is an optical character recognition engine\", \"optical character recognition\"]\n",
        "vect.fit(corpus)\n",
        "\n",
        "print(vect.transform(corpus).toarray())"
      ],
      "execution_count": 10,
      "outputs": [
        {
          "output_type": "stream",
          "text": [
            "[[1 1 1 1 1 1 1]\n",
            " [0 1 0 0 1 1 0]]\n"
          ],
          "name": "stdout"
        }
      ]
    },
    {
      "metadata": {
        "id": "-Dw4ndQ9BLQc",
        "colab_type": "code",
        "outputId": "49f05ea2-efd0-4c9c-bade-86198d4fde12",
        "colab": {
          "base_uri": "https://localhost:8080/",
          "height": 142
        }
      },
      "cell_type": "code",
      "source": [
        "vocab = vect.vocabulary_\n",
        "\n",
        "for key in sorted(vocab.keys()):\n",
        "  print(\"{}:{}\".format(key, vocab[key]))"
      ],
      "execution_count": 11,
      "outputs": [
        {
          "output_type": "stream",
          "text": [
            "an:0\n",
            "character:1\n",
            "engine:2\n",
            "is:3\n",
            "optical:4\n",
            "recognition:5\n",
            "tessaract:6\n"
          ],
          "name": "stdout"
        }
      ]
    },
    {
      "metadata": {
        "id": "NArBd5BACG8W",
        "colab_type": "code",
        "outputId": "4a1a55ed-9a20-4b82-97fa-826df3d75941",
        "colab": {
          "base_uri": "https://localhost:8080/",
          "height": 35
        }
      },
      "cell_type": "code",
      "source": [
        "vect = TfidfVectorizer(binary = True)\n",
        "\n",
        "corpus = [\"CNN is good optical character recognition\", \"optical character recognition\"]\n",
        "vect.fit(corpus)\n",
        "\n",
        "print(vect.transform([\"Today is good optical\"]).toarray())"
      ],
      "execution_count": 12,
      "outputs": [
        {
          "output_type": "stream",
          "text": [
            "[[0.         0.         0.6316672  0.6316672  0.44943642 0.        ]]\n"
          ],
          "name": "stdout"
        }
      ]
    },
    {
      "metadata": {
        "id": "I3m6uMFo4ZDJ",
        "colab_type": "text"
      },
      "cell_type": "markdown",
      "source": [
        "## Cosine Similarity"
      ]
    },
    {
      "metadata": {
        "id": "VTKFJ-o8DZg2",
        "colab_type": "code",
        "outputId": "1a38f6d7-76ed-405c-9baa-db086e280e9a",
        "colab": {
          "base_uri": "https://localhost:8080/",
          "height": 35
        }
      },
      "cell_type": "code",
      "source": [
        "import pandas as pd\n",
        "import numpy as np\n",
        "\n",
        "from sklearn.metrics.pairwise import cosine_similarity\n",
        "\n",
        "similarity = cosine_similarity(vect.transform([\"Tessaract is an optical character recognition engine\"]).toarray(), \n",
        "                               vect.transform([\"Optical character recognition\"]).toarray())\n",
        "\n",
        "print(similarity)"
      ],
      "execution_count": 13,
      "outputs": [
        {
          "output_type": "stream",
          "text": [
            "[[0.77651453]]\n"
          ],
          "name": "stdout"
        }
      ]
    },
    {
      "metadata": {
        "id": "mvqUcqsA4dUw",
        "colab_type": "text"
      },
      "cell_type": "markdown",
      "source": [
        "## Spacy"
      ]
    },
    {
      "metadata": {
        "id": "n0rYMN-sD8c3",
        "colab_type": "code",
        "colab": {}
      },
      "cell_type": "code",
      "source": [
        "import spacy"
      ],
      "execution_count": 0,
      "outputs": []
    },
    {
      "metadata": {
        "id": "VejF7XtCEN6V",
        "colab_type": "code",
        "colab": {}
      },
      "cell_type": "code",
      "source": [
        "nlp = spacy.load('en_core_web_sm')"
      ],
      "execution_count": 0,
      "outputs": []
    },
    {
      "metadata": {
        "id": "mXf7zHGYjmzc",
        "colab_type": "text"
      },
      "cell_type": "markdown",
      "source": [
        "## Finding cosine similarities for collections of text"
      ]
    },
    {
      "metadata": {
        "id": "_QyFUlVnEZmq",
        "colab_type": "code",
        "colab": {}
      },
      "cell_type": "code",
      "source": [
        "str1 = \"Summer is a charming flirt. Easy-going and casual. Summer doesn't huff and puff to win our affections. It has us at \\\"Hello.\\\" Winter broods like the tortured protagonist of big fat Russian novels. It is daunting and dramatic, burning with a slow intensity. The season's reputation precedes itself, and often, not in a good way. It has a way of whittling down everything to its bare bones. Even relationships not attuned to its ebbs and flows can fray. At a dinner conversation I once attended, I listened in bemusement as a recent divorcee made the case that it was the Scandinavian frost that had cooled his ex-wife's ardour. How original.\"\n",
        "\n",
        "str2 = \"One of the finer books I read this year was John Kaag's Hiking With Nietzsche, in which Kaag, a professor of philosophy, rekindles his passion for the German thinker while tracing picturesque hiking trails in the mountains of Switzerland. It's a near-precise rendering of the travelogue as a self-help book. A young Kaag was an avowed Nietzsche acolyte but given the ravages of responsibilities and adulthood, the writer put his affinity to test by undertaking physically enduring hikes through the Alps, revisiting haunts that the philosopher escaped to, in search of solitude and salve. The journey's demands, coupled with his own inner turmoil, are catnip for anybody feeling at cross purposes with their own life.\"\n",
        "\n",
        "str3 = \"If there's a phrase I would prefer to retire from online bios, personal or professional, it is, \\\"I love travel.\\\" Or some approximation of that sentiment. To clarify, I am not against travellers or those who proudly flaunt their passion for travel. On the contrary, editing a travel magazine has now made me oddly protective of travellers and their ilk. My submission is that \\\"love to travel,\\\" suggested so casually, just doesn't feel adequate to the depth of emotion it sparks in true devotees. In February, the month of love as endowed by our great gifting industrial complex, we are wrestling with what \\\"love for travel\\\" means in tangible, life-affecting terms. The early throes of discovering travel might not be too dissimilar to the beginnings of a feverish affair. A fleeting scene, sound or feeling that at first arouses, then enchants and eventually lures us into a hypnotic state, evoking wooly-eyed reveries about what could be.\""
      ],
      "execution_count": 0,
      "outputs": []
    },
    {
      "metadata": {
        "id": "whQV0unUfgoZ",
        "colab_type": "code",
        "colab": {}
      },
      "cell_type": "code",
      "source": [
        "vect = TfidfVectorizer(binary = True)\n",
        "\n",
        "corpus = [str1, str2, str3]\n",
        "vect.fit(corpus)\n",
        "\n",
        "vecstr1 = vect.transform([str1]).toarray()\n",
        "vecstr2 = vect.transform([str2]).toarray()\n",
        "vecstr3 = vect.transform([str3]).toarray()"
      ],
      "execution_count": 0,
      "outputs": []
    },
    {
      "metadata": {
        "id": "XKVK4cp5gaqy",
        "colab_type": "code",
        "colab": {}
      },
      "cell_type": "code",
      "source": [
        "sim = cosine_similarity(vecstr1, vecstr2)"
      ],
      "execution_count": 0,
      "outputs": []
    },
    {
      "metadata": {
        "id": "2R3-lEzag370",
        "colab_type": "code",
        "colab": {
          "base_uri": "https://localhost:8080/",
          "height": 35
        },
        "outputId": "7366bd20-d46c-450b-d563-44c8a3e45eee"
      },
      "cell_type": "code",
      "source": [
        "sim"
      ],
      "execution_count": 21,
      "outputs": [
        {
          "output_type": "execute_result",
          "data": {
            "text/plain": [
              "array([[0.06390515]])"
            ]
          },
          "metadata": {
            "tags": []
          },
          "execution_count": 21
        }
      ]
    },
    {
      "metadata": {
        "id": "9Sl0aN3GhZjA",
        "colab_type": "code",
        "colab": {
          "base_uri": "https://localhost:8080/",
          "height": 71
        },
        "outputId": "c8f7c615-7924-4749-844c-a39fa8da9e87"
      },
      "cell_type": "code",
      "source": [
        "print('Cosine similarity between text 1 and 2:', cosine_similarity(vecstr1, vecstr2))\n",
        "\n",
        "print('Cosine similarity between text 2 and 3:', cosine_similarity(vecstr2, vecstr3))\n",
        "\n",
        "print('Cosine similarity between text 1 and 3:', cosine_similarity(vecstr1, vecstr3))"
      ],
      "execution_count": 24,
      "outputs": [
        {
          "output_type": "stream",
          "text": [
            "Cosine similarity between text 1 and 2: [[0.06390515]]\n",
            "Cosine similarity between text 2 and 3: [[0.08754239]]\n",
            "Cosine similarity between text 1 and 3: [[0.08875505]]\n"
          ],
          "name": "stdout"
        }
      ]
    },
    {
      "metadata": {
        "id": "XiFd7hTBiBpg",
        "colab_type": "code",
        "colab": {}
      },
      "cell_type": "code",
      "source": [
        ""
      ],
      "execution_count": 0,
      "outputs": []
    }
  ]
}